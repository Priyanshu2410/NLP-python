{
 "cells": [
  {
   "cell_type": "code",
   "execution_count": 35,
   "metadata": {},
   "outputs": [],
   "source": [
    "import spacy"
   ]
  },
  {
   "cell_type": "code",
   "execution_count": 36,
   "metadata": {},
   "outputs": [],
   "source": [
    "nlp = spacy.load('en_core_web_sm')"
   ]
  },
  {
   "cell_type": "code",
   "execution_count": 37,
   "metadata": {},
   "outputs": [
    {
     "data": {
      "text/plain": [
       "[('tok2vec', <spacy.pipeline.tok2vec.Tok2Vec at 0x22b155c3ca0>),\n",
       " ('tagger', <spacy.pipeline.tagger.Tagger at 0x22b155c3ac0>),\n",
       " ('parser', <spacy.pipeline.dep_parser.DependencyParser at 0x22b1200bdf0>),\n",
       " ('attribute_ruler',\n",
       "  <spacy.pipeline.attributeruler.AttributeRuler at 0x22b138852c0>),\n",
       " ('lemmatizer', <spacy.lang.en.lemmatizer.EnglishLemmatizer at 0x22b11aec040>),\n",
       " ('ner', <spacy.pipeline.ner.EntityRecognizer at 0x22b1200a650>)]"
      ]
     },
     "execution_count": 37,
     "metadata": {},
     "output_type": "execute_result"
    }
   ],
   "source": [
    "nlp.pipeline"
   ]
  },
  {
   "cell_type": "code",
   "execution_count": 38,
   "metadata": {},
   "outputs": [
    {
     "name": "stdout",
     "output_type": "stream",
     "text": [
      "hey  |  INTJ  |  hey\n",
      ",  |  PUNCT  |  ,\n",
      "my  |  PRON  |  my\n",
      "name  |  NOUN  |  name\n",
      "is  |  AUX  |  be\n",
      "priyaanshu  |  NOUN  |  priyaanshu\n",
      ".  |  PUNCT  |  .\n",
      "my  |  PRON  |  my\n",
      "passion  |  NOUN  |  passion\n",
      "is  |  AUX  |  be\n",
      "coding  |  VERB  |  code\n"
     ]
    }
   ],
   "source": [
    "doc = nlp(\"hey, my name is priyaanshu. my passion is coding\")\n",
    "\n",
    "for token in doc:\n",
    "    print(token,\" | \",token.pos_, \" | \" , token.lemma_)"
   ]
  },
  {
   "cell_type": "code",
   "execution_count": 39,
   "metadata": {},
   "outputs": [
    {
     "name": "stdout",
     "output_type": "stream",
     "text": [
      "Tata Motors  |  ORG  |  Companies, agencies, institutions, etc.\n",
      "45$ billion  |  MONEY  |  Monetary values, including unit\n",
      "2019  |  DATE  |  Absolute or relative dates or periods\n"
     ]
    }
   ],
   "source": [
    "doc = nlp(\"Tata Motors is a leading automobile and eran 45$ billion in 2019\")\n",
    "\n",
    "for ent in doc.ents:\n",
    "    print(ent.text,\" | \", ent.label_ ,\" | \", spacy.explain(ent.label_))"
   ]
  },
  {
   "cell_type": "code",
   "execution_count": null,
   "metadata": {},
   "outputs": [],
   "source": [
    "from spacy import displacy\n",
    "\n",
    "displacy.render(doc, style='ent', jupyter=True)"
   ]
  }
 ],
 "metadata": {
  "kernelspec": {
   "display_name": "Python 3",
   "language": "python",
   "name": "python3"
  },
  "language_info": {
   "codemirror_mode": {
    "name": "ipython",
    "version": 3
   },
   "file_extension": ".py",
   "mimetype": "text/x-python",
   "name": "python",
   "nbconvert_exporter": "python",
   "pygments_lexer": "ipython3",
   "version": "3.10.4"
  },
  "orig_nbformat": 4
 },
 "nbformat": 4,
 "nbformat_minor": 2
}
