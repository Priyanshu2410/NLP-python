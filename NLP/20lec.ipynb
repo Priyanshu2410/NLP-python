{
 "cells": [
  {
   "cell_type": "code",
   "execution_count": 4,
   "metadata": {},
   "outputs": [],
   "source": [
    "import spacy\n",
    "\n",
    "nlp = spacy.load(\"en_core_web_lg\")"
   ]
  },
  {
   "cell_type": "code",
   "execution_count": 6,
   "metadata": {},
   "outputs": [
    {
     "name": "stdout",
     "output_type": "stream",
     "text": [
      "dog Vector : True oov :  False\n",
      "cat Vector : True oov :  False\n",
      "banana Vector : True oov :  False\n",
      "priyanshu Vector : False oov :  True\n"
     ]
    }
   ],
   "source": [
    "doc= nlp(\"dog cat banana priyanshu\")\n",
    "\n",
    "for token in doc:\n",
    "    print(token.text,\"Vector :\",token.has_vector,\"oov : \",token.is_oov)"
   ]
  },
  {
   "cell_type": "code",
   "execution_count": 7,
   "metadata": {},
   "outputs": [
    {
     "data": {
      "text/plain": [
       "lion"
      ]
     },
     "execution_count": 7,
     "metadata": {},
     "output_type": "execute_result"
    }
   ],
   "source": [
    "base_token = nlp(\"lion\")\n",
    "base_token"
   ]
  },
  {
   "cell_type": "code",
   "execution_count": 11,
   "metadata": {},
   "outputs": [
    {
     "name": "stdout",
     "output_type": "stream",
     "text": [
      "lion <-> lion 1.0\n",
      "cat <-> lion 0.38545078600279126\n",
      "dog <-> lion 0.2949308074976605\n",
      "car <-> lion 0.0778808620166819\n",
      "tiger <-> lion 0.7136095431074083\n",
      "man <-> lion 0.28791230673664275\n"
     ]
    }
   ],
   "source": [
    "doc = nlp(\"lion cat dog car tiger man\")\n",
    "for token in doc:\n",
    "    print(f\"{token.text} <-> {base_token.text}\",token.similarity(base_token))"
   ]
  },
  {
   "cell_type": "code",
   "execution_count": 12,
   "metadata": {},
   "outputs": [],
   "source": [
    "king = nlp.vocab[\"king\"].vector\n",
    "man = nlp.vocab[\"man\"].vector\n",
    "woman = nlp.vocab[\"woman\"].vector\n",
    "queen = nlp.vocab[\"queen\"].vector\n",
    "\n",
    "result = king - man +woman"
   ]
  },
  {
   "cell_type": "code",
   "execution_count": null,
   "metadata": {},
   "outputs": [],
   "source": [
    "from sklearn.metrics.pairwise import cosine_similarity\n",
    "cosine_similarity([result],[queen])"
   ]
  }
 ],
 "metadata": {
  "kernelspec": {
   "display_name": "Python 3",
   "language": "python",
   "name": "python3"
  },
  "language_info": {
   "codemirror_mode": {
    "name": "ipython",
    "version": 3
   },
   "file_extension": ".py",
   "mimetype": "text/x-python",
   "name": "python",
   "nbconvert_exporter": "python",
   "pygments_lexer": "ipython3",
   "version": "3.10.4"
  },
  "orig_nbformat": 4
 },
 "nbformat": 4,
 "nbformat_minor": 2
}
