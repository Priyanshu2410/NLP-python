{
 "cells": [
  {
   "cell_type": "code",
   "execution_count": 65,
   "metadata": {},
   "outputs": [],
   "source": [
    "import re"
   ]
  },
  {
   "cell_type": "code",
   "execution_count": 66,
   "metadata": {},
   "outputs": [],
   "source": [
    "chat1 = 'hello my name is priyanshu and my number is 8128135732 and (812)-813-5732'\n",
    "chat2 = 'another number is (812)-813-5732 and mail is test1@abc.com'\n",
    "chat3 = 'hey my order number 5253425 is in problem'\n",
    "chat4 = 'hey my date birth is 24/10/2003 (age 19). '"
   ]
  },
  {
   "cell_type": "code",
   "execution_count": 67,
   "metadata": {},
   "outputs": [],
   "source": [
    "patten = '\\d{10}|\\(\\d{3}\\)-\\d{3}-\\d{4}'  # this for phone number\n",
    "\n",
    "patten2 = '[a-zA-Z0-9_]*@[a-zA-Z0-9]*\\.[a-zA-Z0-9]*'  #for emailid\n",
    "\n",
    "patten3 = 'order[^\\d]*(\\d*)'  #for order id\n",
    "\n",
    "patten4 = 'age (\\d+)'\n",
    "\n",
    "# match =re.findall(patten4,chat4)\n",
    "# match"
   ]
  },
  {
   "cell_type": "code",
   "execution_count": 68,
   "metadata": {},
   "outputs": [],
   "source": [
    "def get_patten_match(patten,chat):\n",
    "    match =re.findall(patten,chat)\n",
    "    if match:\n",
    "        return match"
   ]
  },
  {
   "cell_type": "code",
   "execution_count": 69,
   "metadata": {},
   "outputs": [
    {
     "data": {
      "text/plain": [
       "['8128135732', '(812)-813-5732']"
      ]
     },
     "execution_count": 69,
     "metadata": {},
     "output_type": "execute_result"
    }
   ],
   "source": [
    "get_patten_match(patten,chat2)"
   ]
  }
 ],
 "metadata": {
  "kernelspec": {
   "display_name": "Python 3",
   "language": "python",
   "name": "python3"
  },
  "language_info": {
   "codemirror_mode": {
    "name": "ipython",
    "version": 3
   },
   "file_extension": ".py",
   "mimetype": "text/x-python",
   "name": "python",
   "nbconvert_exporter": "python",
   "pygments_lexer": "ipython3",
   "version": "3.10.4"
  },
  "orig_nbformat": 4
 },
 "nbformat": 4,
 "nbformat_minor": 2
}
