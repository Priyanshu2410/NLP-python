{
 "cells": [
  {
   "cell_type": "code",
   "execution_count": 1,
   "metadata": {},
   "outputs": [],
   "source": [
    "import spacy"
   ]
  },
  {
   "cell_type": "code",
   "execution_count": 2,
   "metadata": {},
   "outputs": [],
   "source": [
    "nlp= spacy.load('en_core_web_sm')"
   ]
  },
  {
   "cell_type": "code",
   "execution_count": 3,
   "metadata": {},
   "outputs": [
    {
     "name": "stdout",
     "output_type": "stream",
     "text": [
      "Apple  |  PROPN  |  proper noun\n",
      "is  |  AUX  |  auxiliary\n",
      "looking  |  VERB  |  verb\n",
      "at  |  ADP  |  adposition\n",
      "buying  |  VERB  |  verb\n",
      "U.K.  |  PROPN  |  proper noun\n",
      "startup  |  NOUN  |  noun\n",
      "for  |  ADP  |  adposition\n",
      "$  |  SYM  |  symbol\n",
      "1  |  NUM  |  numeral\n",
      "billion  |  NUM  |  numeral\n"
     ]
    }
   ],
   "source": [
    "doc = nlp ('Apple is looking at buying U.K. startup for $1 billion')\n",
    "\n",
    "for tokon in doc:\n",
    "    print(tokon,\" | \",tokon.pos_,\" | \",spacy.explain(tokon.pos_),\" | \",tokon.tag_,\" | \",spacy.explain(tokon.tag_))"
   ]
  }
 ],
 "metadata": {
  "kernelspec": {
   "display_name": "Python 3",
   "language": "python",
   "name": "python3"
  },
  "language_info": {
   "codemirror_mode": {
    "name": "ipython",
    "version": 3
   },
   "file_extension": ".py",
   "mimetype": "text/x-python",
   "name": "python",
   "nbconvert_exporter": "python",
   "pygments_lexer": "ipython3",
   "version": "3.10.4"
  },
  "orig_nbformat": 4
 },
 "nbformat": 4,
 "nbformat_minor": 2
}
