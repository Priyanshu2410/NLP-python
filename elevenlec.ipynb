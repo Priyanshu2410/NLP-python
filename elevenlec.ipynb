{
 "cells": [
  {
   "cell_type": "code",
   "execution_count": 4,
   "metadata": {},
   "outputs": [],
   "source": [
    "import spacy"
   ]
  },
  {
   "cell_type": "code",
   "execution_count": 5,
   "metadata": {},
   "outputs": [],
   "source": [
    "nlp= spacy.load('en_core_web_sm')"
   ]
  },
  {
   "cell_type": "code",
   "execution_count": 6,
   "metadata": {},
   "outputs": [
    {
     "name": "stdout",
     "output_type": "stream",
     "text": [
      "Apple  |  PROPN  |  proper noun  |  NNP  |  noun, proper singular\n",
      "is  |  AUX  |  auxiliary  |  VBZ  |  verb, 3rd person singular present\n",
      "looking  |  VERB  |  verb  |  VBG  |  verb, gerund or present participle\n",
      "at  |  ADP  |  adposition  |  IN  |  conjunction, subordinating or preposition\n",
      "buying  |  VERB  |  verb  |  VBG  |  verb, gerund or present participle\n",
      "U.K.  |  PROPN  |  proper noun  |  NNP  |  noun, proper singular\n",
      "startup  |  NOUN  |  noun  |  NN  |  noun, singular or mass\n",
      "for  |  ADP  |  adposition  |  IN  |  conjunction, subordinating or preposition\n",
      "$  |  SYM  |  symbol  |  $  |  symbol, currency\n",
      "1  |  NUM  |  numeral  |  CD  |  cardinal number\n",
      "billion  |  NUM  |  numeral  |  CD  |  cardinal number\n"
     ]
    }
   ],
   "source": [
    "doc = nlp ('Apple is looking at buying U.K. startup for $1 billion')\n",
    "\n",
    "for tokon in doc:\n",
    "    print(tokon,\" | \",tokon.pos_,\" | \",spacy.explain(tokon.pos_),\" | \",tokon.tag_,\" | \",spacy.explain(tokon.tag_))"
   ]
  }
 ],
 "metadata": {
  "kernelspec": {
   "display_name": "Python 3",
   "language": "python",
   "name": "python3"
  },
  "language_info": {
   "codemirror_mode": {
    "name": "ipython",
    "version": 3
   },
   "file_extension": ".py",
   "mimetype": "text/x-python",
   "name": "python",
   "nbconvert_exporter": "python",
   "pygments_lexer": "ipython3",
   "version": "3.10.4"
  },
  "orig_nbformat": 4
 },
 "nbformat": 4,
 "nbformat_minor": 2
}
